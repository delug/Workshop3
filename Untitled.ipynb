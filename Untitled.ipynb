{
 "cells": [
  {
   "cell_type": "markdown",
   "metadata": {},
   "source": [
    "As we can see above, the equation for the sigmoid function is $\\sigma (x)=\\frac{1}{1+e^{-x}}$. Given a Bernoulli random variable $Y$ with only two classes, e.g., $1$ and $0$, we can write $p(x) = \\mathop{\\mathbb{P}}[Y=1 | X=x]$. So by our model, we assert that $$p(x)=\\sigma (x)=\\frac{1}{1+e^{-x}}$$, but we'd like to parameterize this as $$\\frac{1}{1+e^{-(\\beta^Tx + \\beta_{0})}}$$. In order to do so, we need to solve for $(\\beta^Tx + \\beta_{0})$, or if we simplify it as $x'=(\\beta^Tx + \\beta_{0})$, then we only need to solve for $x'$ in $p(x')$.\n",
    "\n",
    "$$p(x')=\\frac{1}{1+e^{-x'}}\\implies\\frac{1}{p(x')}=1+e^{-x}\\implies\\frac{1}{p(x')}-1=e^{-x}\\implies\\frac{1-p(x')}{p(x')}=e^{-x}\\implies\\frac{p(x')}{1-p(x')}=e^x\\implies \\operatorname{ln}(\\frac{p(x')}{1-p(x')})=x$$\n",
    "\n",
    "So finally, we have our model: $$p(x)=\\frac{1}{1+e^{-(\\beta^Tx + \\beta_{0})}}$$\n",
    "Now that we have our new model for our data, we aim to fit this model by tuning the coefficients $\\beta$."
   ]
  },
  {
   "cell_type": "markdown",
   "metadata": {},
   "source": [
    "### Optimization\n",
    "\n",
    "We've seen two examples of *modeling* the data, as either a straight line or a sigmoid curve. However, both of these models involve **parameters** that need to be solved to make the models **fit** the data. \n",
    "\n",
    "There are infinite possible straight lines or sigmoid curve variations we could potentially model the data with. We need to find the *best fit* in an efficient way... \n",
    "\n",
    "**Optimization** is the process of **maximizing** some parameterized **function** based on a **metric** (or **minimizing** based on its negative)."
   ]
  },
  {
   "cell_type": "code",
   "execution_count": null,
   "metadata": {},
   "outputs": [],
   "source": []
  }
 ],
 "metadata": {
  "kernelspec": {
   "display_name": "Python 3",
   "language": "python",
   "name": "python3"
  },
  "language_info": {
   "codemirror_mode": {
    "name": "ipython",
    "version": 3
   },
   "file_extension": ".py",
   "mimetype": "text/x-python",
   "name": "python",
   "nbconvert_exporter": "python",
   "pygments_lexer": "ipython3",
   "version": "3.7.3"
  }
 },
 "nbformat": 4,
 "nbformat_minor": 2
}
